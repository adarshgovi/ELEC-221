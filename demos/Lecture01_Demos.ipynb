{
  "cells": [
    {
      "cell_type": "markdown",
      "id": "a8f297ac-75b9-42fd-b4bc-58275aca9c8e",
      "metadata": {
        "id": "a8f297ac-75b9-42fd-b4bc-58275aca9c8e"
      },
      "source": [
        "# Lecture 01 Demos"
      ]
    },
    {
      "cell_type": "code",
      "execution_count": null,
      "id": "5a1d8eb3-10d8-48e2-9497-13c1751af99b",
      "metadata": {
        "id": "5a1d8eb3-10d8-48e2-9497-13c1751af99b"
      },
      "outputs": [],
      "source": [
        "import numpy as np\n",
        "import matplotlib.pyplot as plt\n",
        "\n",
        "def stem_plot(n, x_n, limit_axes=2):\n",
        "    fig, ax = plt.subplots(1, 1)\n",
        "    ax.stem(n, x_n)\n",
        "    ax.set_xticks(n)\n",
        "    ax.set_ylim(-limit_axes, limit_axes)\n",
        "    ax.set_xlabel(\"n\", fontsize=14)"
      ]
    },
    {
      "cell_type": "markdown",
      "id": "e3775712-6ab3-44ec-905b-c7856ea208c3",
      "metadata": {
        "id": "e3775712-6ab3-44ec-905b-c7856ea208c3"
      },
      "source": [
        "## Demo 1: shift, scale, and reverse"
      ]
    },
    {
      "cell_type": "code",
      "source": [
        "def timeshift(n_0, signal):\n",
        "    def shifted_signal(n):\n",
        "        return signal(n + n_0)\n",
        "    return shifted_signal"
      ],
      "metadata": {
        "id": "0Tv-xfEm9TzX"
      },
      "id": "0Tv-xfEm9TzX",
      "execution_count": null,
      "outputs": []
    },
    {
      "cell_type": "code",
      "source": [
        "def our_signal(n):\n",
        "    return np.sin(2 * np.pi * n / 20)"
      ],
      "metadata": {
        "id": "Rn6KKRQxBbx9"
      },
      "id": "Rn6KKRQxBbx9",
      "execution_count": null,
      "outputs": []
    },
    {
      "cell_type": "code",
      "source": [
        "n_range = np.arange(0, 20)"
      ],
      "metadata": {
        "id": "Zgrnwm_mBlqZ"
      },
      "id": "Zgrnwm_mBlqZ",
      "execution_count": null,
      "outputs": []
    },
    {
      "cell_type": "code",
      "source": [
        "stem_plot(n_range, our_signal(n_range))"
      ],
      "metadata": {
        "colab": {
          "base_uri": "https://localhost:8080/",
          "height": 343
        },
        "id": "_58qutq_BokK",
        "outputId": "59f60d56-2d0c-474f-8980-21ee1082d7e5"
      },
      "id": "_58qutq_BokK",
      "execution_count": null,
      "outputs": [
        {
          "output_type": "stream",
          "name": "stderr",
          "text": [
            "/usr/local/lib/python3.7/dist-packages/ipykernel_launcher.py:6: UserWarning: In Matplotlib 3.3 individual lines on a stem plot will be added as a LineCollection instead of individual lines. This significantly improves the performance of a stem plot. To remove this warning and switch to the new behaviour, set the \"use_line_collection\" keyword argument to True.\n",
            "  \n"
          ]
        },
        {
          "output_type": "display_data",
          "data": {
            "text/plain": [
              "<Figure size 432x288 with 1 Axes>"
            ],
            "image/png": "[encoded data removed]"
          },
          "metadata": {
            "needs_background": "light"
          }
        }
      ]
    },
    {
      "cell_type": "code",
      "source": [
        "shifted_signal = timeshift(3, our_signal)"
      ],
      "metadata": {
        "id": "f53uF7snB01D"
      },
      "id": "f53uF7snB01D",
      "execution_count": null,
      "outputs": []
    },
    {
      "cell_type": "code",
      "source": [
        "stem_plot(n_range, shifted_signal(n_range))"
      ],
      "metadata": {
        "colab": {
          "base_uri": "https://localhost:8080/",
          "height": 343
        },
        "id": "doZemfagB6qz",
        "outputId": "53901d3a-73c6-4bb3-e26a-5a626169f576"
      },
      "id": "doZemfagB6qz",
      "execution_count": null,
      "outputs": [
        {
          "output_type": "stream",
          "name": "stderr",
          "text": [
            "/usr/local/lib/python3.7/dist-packages/ipykernel_launcher.py:6: UserWarning: In Matplotlib 3.3 individual lines on a stem plot will be added as a LineCollection instead of individual lines. This significantly improves the performance of a stem plot. To remove this warning and switch to the new behaviour, set the \"use_line_collection\" keyword argument to True.\n",
            "  \n"
          ]
        },
        {
          "output_type": "display_data",
          "data": {
            "text/plain": [
              "<Figure size 432x288 with 1 Axes>"
            ],
            "image/png": "[encoded data removed]"
          },
          "metadata": {
            "needs_background": "light"
          }
        }
      ]
    },
    {
      "cell_type": "code",
      "source": [
        "def timescale(a, signal):\n",
        "    def scaled_signal(n):\n",
        "        return signal(a * n)\n",
        "    return scaled_signal"
      ],
      "metadata": {
        "id": "NWhihaddB_2X"
      },
      "id": "NWhihaddB_2X",
      "execution_count": null,
      "outputs": []
    },
    {
      "cell_type": "code",
      "source": [
        "scaled_signal = timescale(2, our_signal)"
      ],
      "metadata": {
        "id": "pMaug1MLCLLA"
      },
      "id": "pMaug1MLCLLA",
      "execution_count": null,
      "outputs": []
    },
    {
      "cell_type": "code",
      "source": [
        "stem_plot(n_range, scaled_signal(n_range))"
      ],
      "metadata": {
        "colab": {
          "base_uri": "https://localhost:8080/",
          "height": 343
        },
        "id": "jGzwcjp6CRpx",
        "outputId": "8a6a97b4-58ee-47bc-f55a-5b5cbcbe92a8"
      },
      "id": "jGzwcjp6CRpx",
      "execution_count": null,
      "outputs": [
        {
          "output_type": "stream",
          "name": "stderr",
          "text": [
            "/usr/local/lib/python3.7/dist-packages/ipykernel_launcher.py:6: UserWarning: In Matplotlib 3.3 individual lines on a stem plot will be added as a LineCollection instead of individual lines. This significantly improves the performance of a stem plot. To remove this warning and switch to the new behaviour, set the \"use_line_collection\" keyword argument to True.\n",
            "  \n"
          ]
        },
        {
          "output_type": "display_data",
          "data": {
            "text/plain": [
              "<Figure size 432x288 with 1 Axes>"
            ],
            "image/png": "[encoded data removed]"
          },
          "metadata": {
            "needs_background": "light"
          }
        }
      ]
    },
    {
      "cell_type": "code",
      "source": [
        "fancy_signal = timescale(4, timeshift(3, our_signal))"
      ],
      "metadata": {
        "id": "mRSAQnKjCY1c"
      },
      "id": "mRSAQnKjCY1c",
      "execution_count": null,
      "outputs": []
    },
    {
      "cell_type": "code",
      "source": [
        "stem_plot(n_range, fancy_signal(n_range))"
      ],
      "metadata": {
        "colab": {
          "base_uri": "https://localhost:8080/",
          "height": 343
        },
        "id": "itYt3bADCevP",
        "outputId": "be2397db-557d-41ad-fc14-93538495874b"
      },
      "id": "itYt3bADCevP",
      "execution_count": null,
      "outputs": [
        {
          "output_type": "stream",
          "name": "stderr",
          "text": [
            "/usr/local/lib/python3.7/dist-packages/ipykernel_launcher.py:6: UserWarning: In Matplotlib 3.3 individual lines on a stem plot will be added as a LineCollection instead of individual lines. This significantly improves the performance of a stem plot. To remove this warning and switch to the new behaviour, set the \"use_line_collection\" keyword argument to True.\n",
            "  \n"
          ]
        },
        {
          "output_type": "display_data",
          "data": {
            "text/plain": [
              "<Figure size 432x288 with 1 Axes>"
            ],
            "image/png": "[encoded data removed]"
          },
          "metadata": {
            "needs_background": "light"
          }
        }
      ]
    },
    {
      "cell_type": "markdown",
      "id": "510ee670-d8d9-4665-9b80-9546731bbbfe",
      "metadata": {
        "id": "510ee670-d8d9-4665-9b80-9546731bbbfe"
      },
      "source": [
        "## Demo 2: systems"
      ]
    },
    {
      "cell_type": "code",
      "source": [],
      "metadata": {
        "id": "r30XqLv19UUO"
      },
      "id": "r30XqLv19UUO",
      "execution_count": null,
      "outputs": []
    },
    {
      "cell_type": "markdown",
      "source": [
        "## Demo 3: linearity"
      ],
      "metadata": {
        "id": "38ef1ee4-b31b-4be6-b0e5-2c9981f1de63"
      },
      "id": "38ef1ee4-b31b-4be6-b0e5-2c9981f1de63"
    },
    {
      "cell_type": "markdown",
      "source": [
        "Example 1: $y[n] = x[n-2] - 2x[n-8]$ \n",
        "\n",
        "Example 2: $y[n] = x[n-2]^2$"
      ],
      "metadata": {
        "id": "QVi_178GYfn6"
      },
      "id": "QVi_178GYfn6"
    },
    {
      "cell_type": "code",
      "source": [
        "def system1(signal):\n",
        "    def output_signal(n):\n",
        "        return signal(n - 2) - 2 * signal(n - 8)\n",
        "    return output_signal\n",
        "\n",
        "def system2(signal):\n",
        "    def output_signal(n):\n",
        "        return signal(n - 2) ** 2\n",
        "    return output_signal"
      ],
      "metadata": {
        "id": "fy2I_XYf8xJ2"
      },
      "id": "fy2I_XYf8xJ2",
      "execution_count": null,
      "outputs": []
    },
    {
      "cell_type": "code",
      "source": [
        "signal1 = our_signal\n",
        "signal2 = timeshift(2, timescale(3, our_signal))"
      ],
      "metadata": {
        "id": "Qo-omOcLJFrt"
      },
      "id": "Qo-omOcLJFrt",
      "execution_count": null,
      "outputs": []
    },
    {
      "cell_type": "code",
      "source": [
        "a = 0.2\n",
        "b = 0.3"
      ],
      "metadata": {
        "id": "f2Xd5zlxJSsN"
      },
      "id": "f2Xd5zlxJSsN",
      "execution_count": null,
      "outputs": []
    },
    {
      "cell_type": "code",
      "source": [
        "stem_plot(\n",
        "    n_range,\n",
        "    a * system1(signal1)(n_range) + b * system1(signal2)(n_range)    \n",
        ")"
      ],
      "metadata": {
        "colab": {
          "base_uri": "https://localhost:8080/",
          "height": 343
        },
        "id": "4PbPewhQJd2D",
        "outputId": "4b5db771-4c97-4613-efb5-4268a3e7dcc4"
      },
      "id": "4PbPewhQJd2D",
      "execution_count": null,
      "outputs": [
        {
          "output_type": "stream",
          "name": "stderr",
          "text": [
            "/usr/local/lib/python3.7/dist-packages/ipykernel_launcher.py:6: UserWarning: In Matplotlib 3.3 individual lines on a stem plot will be added as a LineCollection instead of individual lines. This significantly improves the performance of a stem plot. To remove this warning and switch to the new behaviour, set the \"use_line_collection\" keyword argument to True.\n",
            "  \n"
          ]
        },
        {
          "output_type": "display_data",
          "data": {
            "text/plain": [
              "<Figure size 432x288 with 1 Axes>"
            ],
            "image/png": "[encoded data removed]"
          },
          "metadata": {
            "needs_background": "light"
          }
        }
      ]
    },
    {
      "cell_type": "code",
      "source": [
        "def superpose_signals(a, signal1, b, signal2):\n",
        "    def output_signal(n):\n",
        "        return a * signal1(n) + b * signal2(n)\n",
        "    return output_signal"
      ],
      "metadata": {
        "id": "0BeF620CJw8Y"
      },
      "id": "0BeF620CJw8Y",
      "execution_count": null,
      "outputs": []
    },
    {
      "cell_type": "code",
      "source": [
        "superposed_signal = superpose_signals(a, signal1, b, signal2)"
      ],
      "metadata": {
        "id": "Zud-tl4fKGSn"
      },
      "id": "Zud-tl4fKGSn",
      "execution_count": null,
      "outputs": []
    },
    {
      "cell_type": "code",
      "source": [
        "stem_plot(\n",
        "    n_range,\n",
        "    system1(superposed_signal)(n_range)\n",
        "    # This was my error in class - I didn't actually apply the system\n",
        "    # to the superposed signal. This is fixed, and now you can see that\n",
        "    # it is indeed a linear system.\n",
        "    # superposed_signal(n_range)\n",
        ")"
      ],
      "metadata": {
        "colab": {
          "base_uri": "https://localhost:8080/",
          "height": 343
        },
        "id": "l6nbqHzTKB08",
        "outputId": "9b26aad6-a390-4f06-88bc-a163dd1bc7e8"
      },
      "id": "l6nbqHzTKB08",
      "execution_count": null,
      "outputs": [
        {
          "output_type": "stream",
          "name": "stderr",
          "text": [
            "/usr/local/lib/python3.7/dist-packages/ipykernel_launcher.py:6: UserWarning: In Matplotlib 3.3 individual lines on a stem plot will be added as a LineCollection instead of individual lines. This significantly improves the performance of a stem plot. To remove this warning and switch to the new behaviour, set the \"use_line_collection\" keyword argument to True.\n",
            "  \n"
          ]
        },
        {
          "output_type": "display_data",
          "data": {
            "text/plain": [
              "<Figure size 432x288 with 1 Axes>"
            ],
            "image/png": "[encoded data removed]"
          },
          "metadata": {
            "needs_background": "light"
          }
        }
      ]
    },
    {
      "cell_type": "code",
      "source": [],
      "metadata": {
        "id": "mRyAs-FbKK23"
      },
      "id": "mRyAs-FbKK23",
      "execution_count": null,
      "outputs": []
    }
  ],
  "metadata": {
    "kernelspec": {
      "display_name": "Python 3 (ipykernel)",
      "language": "python",
      "name": "python3"
    },
    "language_info": {
      "codemirror_mode": {
        "name": "ipython",
        "version": 3
      },
      "file_extension": ".py",
      "mimetype": "text/x-python",
      "name": "python",
      "nbconvert_exporter": "python",
      "pygments_lexer": "ipython3",
      "version": "3.9.7"
    },
    "colab": {
      "provenance": [],
      "collapsed_sections": []
    }
  },
  "nbformat": 4,
  "nbformat_minor": 5
}