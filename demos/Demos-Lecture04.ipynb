{
 "cells": [
  {
   "cell_type": "markdown",
   "id": "42a30a4e-07e6-4d6d-83f2-68e8e6ac1516",
   "metadata": {},
   "source": [
    "# Lecture 04 Demos"
   ]
  },
  {
   "cell_type": "code",
   "execution_count": null,
   "id": "7a170da0-b225-49d8-8581-6b72fe7c7107",
   "metadata": {},
   "outputs": [],
   "source": [
    "import numpy as np\n",
    "import matplotlib.pyplot as plt\n",
    "from IPython.display import Audio"
   ]
  },
  {
   "cell_type": "markdown",
   "id": "3880b1f3-dabc-405a-91c8-20258ba86c5b",
   "metadata": {},
   "source": [
    "## Demo 1: fun with square waves"
   ]
  },
  {
   "cell_type": "code",
   "execution_count": null,
   "id": "5b3f56a9-db31-472f-b6d1-32013080a459",
   "metadata": {},
   "outputs": [],
   "source": [
    "tone = 65           # A frequency in Hz\n",
    "duration = 2         # The length of the audio signal (in seconds)\n",
    "sample_rate = 48000  # The number of samples per second to take\n",
    "t_range = np.linspace(0, duration, sample_rate * duration) # Range of time"
   ]
  },
  {
   "cell_type": "code",
   "execution_count": null,
   "id": "a86ba520-779e-41ae-9e47-97eedc349faa",
   "metadata": {},
   "outputs": [],
   "source": [
    "def ideal_square_wave(t, freq):\n",
    "    return 4 * np.floor(freq * t) - 2 * np.floor(2 * freq * t)"
   ]
  },
  {
   "cell_type": "code",
   "execution_count": null,
   "id": "dcfce17e-ca4f-4aef-9c85-1f6451ef53bc",
   "metadata": {},
   "outputs": [],
   "source": [
    "ideal_square_wave_samples = square_wave(t_range, tone)"
   ]
  },
  {
   "cell_type": "code",
   "execution_count": null,
   "id": "388d3938-63e1-4c05-895b-a3da22c3e021",
   "metadata": {},
   "outputs": [],
   "source": [
    "plt.figure(figsize=(10, 5))\n",
    "plt.plot(t_range[:1000], ideal_square_wave_samples[:1000])"
   ]
  },
  {
   "cell_type": "code",
   "execution_count": null,
   "id": "ceac12ef-569b-47d2-9875-ed9313b23ce2",
   "metadata": {},
   "outputs": [],
   "source": [
    "Audio(ideal_square_wave_samples, rate=sample_rate)"
   ]
  },
  {
   "cell_type": "code",
   "execution_count": null,
   "id": "1feed9d4-05ea-4052-922e-d9a01eee400c",
   "metadata": {},
   "outputs": [],
   "source": [
    "def square_wave_coefficients(k):\n",
    "    return (k % 2) * 4 / (k * np.pi)\n",
    "\n",
    "def square_wave_truncated(t, freq, max_k):\n",
    "    return np.sum([\n",
    "        square_wave_coefficients(k) * np.sin(2 * np.pi * freq * k * t) for k in range(1, max_k+1)\n",
    "    ])"
   ]
  },
  {
   "cell_type": "code",
   "execution_count": null,
   "id": "196dc495-71c6-4e47-8f14-3d5507b0d2c4",
   "metadata": {},
   "outputs": [],
   "source": [
    "bad_truncated_square_wave = np.array([square_wave_truncated(t, tone, 10) for t in t_range])\n",
    "better_truncated_square_wave = np.array([square_wave_truncated(t, tone, 50) for t in t_range])"
   ]
  },
  {
   "cell_type": "code",
   "execution_count": null,
   "id": "47e5a46e-3368-4000-82df-7dc7dcec9029",
   "metadata": {},
   "outputs": [],
   "source": [
    "plt.figure(figsize=(10, 5))\n",
    "plt.plot(t_range[:1000], bad_truncated_square_wave[:1000])"
   ]
  },
  {
   "cell_type": "code",
   "execution_count": null,
   "id": "e8de0161-3d1c-4345-a23b-2c8fcc48daaa",
   "metadata": {},
   "outputs": [],
   "source": [
    "Audio(bad_truncated_square_wave, rate=sample_rate)"
   ]
  },
  {
   "cell_type": "code",
   "execution_count": null,
   "id": "bcb62598-d00c-4429-b909-17aec467996e",
   "metadata": {},
   "outputs": [],
   "source": [
    "plt.figure(figsize=(10, 5))\n",
    "plt.plot(t_range[:1000], better_truncated_square_wave[:1000])"
   ]
  },
  {
   "cell_type": "code",
   "execution_count": null,
   "id": "056ee9ed-5b2a-46db-b26f-56835db5ac80",
   "metadata": {},
   "outputs": [],
   "source": [
    "Audio(better_truncated_square_wave, rate=sample_rate)"
   ]
  },
  {
   "cell_type": "markdown",
   "id": "e1642ad8-19f2-474f-89f3-9c8a41a3397f",
   "metadata": {},
   "source": [
    "## Demo 2: fun with sawtooth waves"
   ]
  },
  {
   "cell_type": "code",
   "execution_count": null,
   "id": "80b3a7c9-222c-4004-84d0-3f90b4b817cd",
   "metadata": {},
   "outputs": [],
   "source": [
    "def ideal_sawtooth_wave(t, freq):\n",
    "    return 2 * (freq * t - np.floor(freq * t + 0.5))"
   ]
  },
  {
   "cell_type": "code",
   "execution_count": null,
   "id": "eb9e9120-e88e-4fae-a49f-1a326fd59599",
   "metadata": {},
   "outputs": [],
   "source": [
    "ideal_sawtooth_wave_samples = ideal_sawtooth_wave(t_range, tone)"
   ]
  },
  {
   "cell_type": "code",
   "execution_count": null,
   "id": "d5d26653-088a-4385-8651-fbb22de3cf05",
   "metadata": {},
   "outputs": [],
   "source": [
    "plt.figure(figsize=(10, 5))\n",
    "plt.plot(t_range[:1000], ideal_sawtooth_wave_samples[:1000])"
   ]
  },
  {
   "cell_type": "code",
   "execution_count": null,
   "id": "35a3da67-e6d9-4fe1-88c0-4747fa6b133a",
   "metadata": {},
   "outputs": [],
   "source": [
    "Audio(ideal_sawtooth_wave_samples, rate=sample_rate)"
   ]
  },
  {
   "cell_type": "code",
   "execution_count": null,
   "id": "4df6c288-5730-453e-99f8-cbf9122172b2",
   "metadata": {},
   "outputs": [],
   "source": [
    "def sawtooth_coefficients(k):\n",
    "    return -(2 / np.pi) * ((-1) ** k) / k\n",
    "\n",
    "def sawtooth_truncated(t, freq, max_k):\n",
    "    return np.sum([sawtooth_coefficients(k) * np.sin(2 * np.pi * freq * k * t) for k in range(1, max_k+1)])"
   ]
  },
  {
   "cell_type": "code",
   "execution_count": null,
   "id": "11be147e-98e1-4302-8ec0-640b31b566d7",
   "metadata": {},
   "outputs": [],
   "source": [
    "bad_truncated_sawtooth_wave = np.array([sawtooth_truncated(t, tone, 10) for t in t_range])\n",
    "better_truncated_sawtooth_wave = np.array([sawtooth_truncated(t, tone, 50) for t in t_range])"
   ]
  },
  {
   "cell_type": "code",
   "execution_count": null,
   "id": "6ed64d92-8197-4801-9d17-a098cde66d13",
   "metadata": {},
   "outputs": [],
   "source": [
    "plt.figure(figsize=(10, 5))\n",
    "plt.plot(t_range[:1000], bad_truncated_sawtooth_wave[:1000])"
   ]
  },
  {
   "cell_type": "code",
   "execution_count": null,
   "id": "8ccb8a25-599e-4eab-8f65-257e8a20c6aa",
   "metadata": {},
   "outputs": [],
   "source": [
    "Audio(bad_truncated_sawtooth_wave, rate=sample_rate)"
   ]
  },
  {
   "cell_type": "code",
   "execution_count": null,
   "id": "054b1d68-e2dd-473e-ab69-a5f14f42cd60",
   "metadata": {},
   "outputs": [],
   "source": [
    "plt.figure(figsize=(10, 5))\n",
    "plt.plot(t_range[:1000], better_truncated_sawtooth_wave[:1000])"
   ]
  },
  {
   "cell_type": "code",
   "execution_count": null,
   "id": "5581ccf8-d1f0-4c77-bf1c-8656f8100515",
   "metadata": {},
   "outputs": [],
   "source": [
    "Audio(better_truncated_sawtooth_wave, rate=sample_rate)"
   ]
  },
  {
   "cell_type": "markdown",
   "id": "87b0b062-7782-4253-8d5a-07f9c0094730",
   "metadata": {},
   "source": [
    "## Try it yourself!"
   ]
  },
  {
   "cell_type": "markdown",
   "id": "d562cb11-76b2-4afc-9544-7e80a1ecd1cb",
   "metadata": {},
   "source": [
    " - Implement the same functions for the [triangle wave](https://en.wikipedia.org/wiki/Triangle_wave)\n",
    " - Try applying a filtering technique called the [sigma approximation](https://en.wikipedia.org/wiki/Sigma_approximation) to reduce the effects of the Gibbs phenomenon (we will cover filters in lecture 6 next week)"
   ]
  },
  {
   "cell_type": "code",
   "execution_count": null,
   "id": "70ffc136-9f0c-42a7-809a-5161cdf7b10e",
   "metadata": {},
   "outputs": [],
   "source": []
  }
 ],
 "metadata": {
  "kernelspec": {
   "display_name": "Python 3 (ipykernel)",
   "language": "python",
   "name": "python3"
  },
  "language_info": {
   "codemirror_mode": {
    "name": "ipython",
    "version": 3
   },
   "file_extension": ".py",
   "mimetype": "text/x-python",
   "name": "python",
   "nbconvert_exporter": "python",
   "pygments_lexer": "ipython3",
   "version": "3.9.7"
  }
 },
 "nbformat": 4,
 "nbformat_minor": 5
}
