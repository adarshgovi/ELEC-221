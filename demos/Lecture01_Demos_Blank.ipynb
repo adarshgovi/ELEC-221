{
  "cells": [
    {
      "cell_type": "markdown",
      "id": "a8f297ac-75b9-42fd-b4bc-58275aca9c8e",
      "metadata": {
        "id": "a8f297ac-75b9-42fd-b4bc-58275aca9c8e"
      },
      "source": [
        "# Lecture 01 Demos"
      ]
    },
    {
      "cell_type": "code",
      "execution_count": null,
      "id": "5a1d8eb3-10d8-48e2-9497-13c1751af99b",
      "metadata": {
        "id": "5a1d8eb3-10d8-48e2-9497-13c1751af99b"
      },
      "outputs": [],
      "source": [
        "import numpy as np\n",
        "import matplotlib.pyplot as plt\n",
        "\n",
        "def stem_plot(n, x_n, limit_axes=2):\n",
        "    fig, ax = plt.subplots(1, 1)\n",
        "    ax.stem(n, x_n)\n",
        "    ax.set_xticks(n)\n",
        "    ax.set_ylim(-limit_axes, limit_axes)\n",
        "    ax.set_xlabel(\"n\", fontsize=14)"
      ]
    },
    {
      "cell_type": "markdown",
      "id": "e3775712-6ab3-44ec-905b-c7856ea208c3",
      "metadata": {
        "id": "e3775712-6ab3-44ec-905b-c7856ea208c3"
      },
      "source": [
        "## Demo 1: shift, scale, and reverse"
      ]
    },
    {
      "cell_type": "code",
      "source": [],
      "metadata": {
        "id": "0Tv-xfEm9TzX"
      },
      "id": "0Tv-xfEm9TzX",
      "execution_count": null,
      "outputs": []
    },
    {
      "cell_type": "markdown",
      "id": "510ee670-d8d9-4665-9b80-9546731bbbfe",
      "metadata": {
        "id": "510ee670-d8d9-4665-9b80-9546731bbbfe"
      },
      "source": [
        "## Demo 2: systems"
      ]
    },
    {
      "cell_type": "code",
      "source": [],
      "metadata": {
        "id": "r30XqLv19UUO"
      },
      "id": "r30XqLv19UUO",
      "execution_count": null,
      "outputs": []
    },
    {
      "cell_type": "markdown",
      "source": [
        "## Demo 3: linearity"
      ],
      "metadata": {
        "id": "38ef1ee4-b31b-4be6-b0e5-2c9981f1de63"
      },
      "id": "38ef1ee4-b31b-4be6-b0e5-2c9981f1de63"
    },
    {
      "cell_type": "markdown",
      "source": [
        "Example 1: $y[n] = x[n-2] - 2x[n-8]$ \n",
        "\n",
        "Example 2: $y[n] = x[n-2]^2$"
      ],
      "metadata": {
        "id": "QVi_178GYfn6"
      },
      "id": "QVi_178GYfn6"
    },
    {
      "cell_type": "code",
      "source": [],
      "metadata": {
        "id": "fy2I_XYf8xJ2"
      },
      "id": "fy2I_XYf8xJ2",
      "execution_count": null,
      "outputs": []
    }
  ],
  "metadata": {
    "kernelspec": {
      "display_name": "Python 3 (ipykernel)",
      "language": "python",
      "name": "python3"
    },
    "language_info": {
      "codemirror_mode": {
        "name": "ipython",
        "version": 3
      },
      "file_extension": ".py",
      "mimetype": "text/x-python",
      "name": "python",
      "nbconvert_exporter": "python",
      "pygments_lexer": "ipython3",
      "version": "3.9.7"
    },
    "colab": {
      "provenance": [],
      "collapsed_sections": []
    }
  },
  "nbformat": 4,
  "nbformat_minor": 5
}