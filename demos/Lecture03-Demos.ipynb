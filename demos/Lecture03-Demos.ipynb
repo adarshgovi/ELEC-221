{
 "cells": [
  {
   "cell_type": "markdown",
   "id": "10341aa7-534c-4786-b532-74af8c7368da",
   "metadata": {},
   "source": [
    "# Lecture 03 Demos"
   ]
  },
  {
   "cell_type": "code",
   "execution_count": null,
   "id": "2cba427d-3c61-4458-ae27-a893363999a0",
   "metadata": {},
   "outputs": [],
   "source": [
    "import numpy as np\n",
    "import matplotlib.pyplot as plt"
   ]
  },
  {
   "cell_type": "markdown",
   "id": "2bde9dbd-429a-4351-bd25-5741eb50dbba",
   "metadata": {},
   "source": [
    "## Demo 1: Playing with Fourier series"
   ]
  },
  {
   "cell_type": "markdown",
   "id": "788663cc-b393-4bd3-82f4-abde23f85dac",
   "metadata": {},
   "source": [
    "\\begin{align*}\n",
    "  x(t) = a_{0} +  \\sum_{k = 1}^{\\infty} ( a_{k} \\cos (k\\omega t) + b_{k} \\sin (k\\omega t))\n",
    "\\end{align*}"
   ]
  },
  {
   "cell_type": "code",
   "execution_count": null,
   "id": "1ba91881-7e4f-4dc6-bac3-ef71d419b4f0",
   "metadata": {},
   "outputs": [],
   "source": [
    "def signal_from_fourier_coeffs(a_dict, b_dict, ω, t): \n",
    "    output = np.sum([a_k * np.cos(k * ω * t) for k, a_k in a_dict.items()])\n",
    "    output += np.sum([b_k * np.sin(k * ω * t) for k, b_k in b_dict.items()])\n",
    "    return output"
   ]
  },
  {
   "cell_type": "code",
   "execution_count": null,
   "id": "94480012-85e5-4caa-bdfc-04b9e3ac9f71",
   "metadata": {},
   "outputs": [],
   "source": [
    "ω = 2\n",
    "t_range = np.linspace(-2*np.pi, 2*np.pi, 1000)"
   ]
  },
  {
   "cell_type": "code",
   "execution_count": null,
   "id": "3617ea04-872c-40f2-9cba-292c204864ed",
   "metadata": {},
   "outputs": [],
   "source": [
    "a_coeffs = {0: 0.5, 1: 1, 2: 0.25}\n",
    "b_coeffs = {1: 0.25, 4: 0.5}"
   ]
  },
  {
   "cell_type": "code",
   "execution_count": null,
   "id": "5c89b008-951a-4d0d-951e-9163a594ab87",
   "metadata": {},
   "outputs": [],
   "source": [
    "plt.plot(\n",
    "    t_range, \n",
    "    [signal_from_fourier_coeffs(a_coeffs, b_coeffs, ω, t) for t in t_range]\n",
    ")"
   ]
  },
  {
   "cell_type": "markdown",
   "id": "5d7a11a4-935c-49bb-8f7b-62cc2be3a5e3",
   "metadata": {},
   "source": [
    "## Demo 2: checking our work"
   ]
  },
  {
   "cell_type": "code",
   "execution_count": null,
   "id": "4d71d222-4eed-4a00-9375-4e7c427526c9",
   "metadata": {},
   "outputs": [],
   "source": [
    "def example_func(t):\n",
    "    return np.exp(-t)\n",
    "\n",
    "t_range = np.linspace(-1, 1, 1000)"
   ]
  },
  {
   "cell_type": "code",
   "execution_count": null,
   "id": "2827cd36-7fc2-4cba-8306-9154a8df9d73",
   "metadata": {},
   "outputs": [],
   "source": [
    "plt.plot(t_range, [example_func(t) for t in t_range])\n",
    "plt.xlabel(\"t\", fontsize=14)\n",
    "plt.ylabel(\"x(t) = exp[-t]\", fontsize=14)"
   ]
  },
  {
   "cell_type": "markdown",
   "id": "26f22f87-cb5e-403a-9d0a-017780392fad",
   "metadata": {},
   "source": [
    "The Fourier synthesis equation:\n",
    "\n",
    "$$\n",
    "   x(t) = \\sum_{k = -\\infty}^{\\infty} c_{k} e^{j k \\omega t}\n",
    "$$"
   ]
  },
  {
   "cell_type": "code",
   "execution_count": null,
   "id": "ab124c92-75ff-46c0-a47a-83423ea3eecf",
   "metadata": {},
   "outputs": [],
   "source": [
    "def evaluate_fourier_coef(k):\n",
    "    return ((-1) ** k) * (np.e - 1/np.e) / (2 + 2 * 1j * k * np.pi)"
   ]
  },
  {
   "cell_type": "code",
   "execution_count": null,
   "id": "5e2b6383-25b4-41a8-bcb1-df0ce6254a50",
   "metadata": {},
   "outputs": [],
   "source": [
    "MAX_K = 100\n",
    "\n",
    "def synthesis_equation(t):\n",
    "    return np.sum([evaluate_fourier_coef(k) * np.exp(1j * k * np.pi * t) for k in range(-MAX_K, MAX_K)])"
   ]
  },
  {
   "cell_type": "code",
   "execution_count": null,
   "id": "ba196ff4-8de4-4167-b837-3285fbc09229",
   "metadata": {},
   "outputs": [],
   "source": [
    "plt.plot(\n",
    "    t_range, \n",
    "    [np.real(synthesis_equation(t)) for t in t_range]\n",
    ")\n",
    "plt.xlabel(\"t\", fontsize=14)\n",
    "plt.ylabel(\"Synthesized exp[-t]\", fontsize=14)"
   ]
  },
  {
   "cell_type": "code",
   "execution_count": null,
   "id": "c12026c0-e71f-4091-a41c-9f99c76d498e",
   "metadata": {},
   "outputs": [],
   "source": []
  }
 ],
 "metadata": {
  "kernelspec": {
   "display_name": "Python 3 (ipykernel)",
   "language": "python",
   "name": "python3"
  },
  "language_info": {
   "codemirror_mode": {
    "name": "ipython",
    "version": 3
   },
   "file_extension": ".py",
   "mimetype": "text/x-python",
   "name": "python",
   "nbconvert_exporter": "python",
   "pygments_lexer": "ipython3",
   "version": "3.9.7"
  }
 },
 "nbformat": 4,
 "nbformat_minor": 5
}
