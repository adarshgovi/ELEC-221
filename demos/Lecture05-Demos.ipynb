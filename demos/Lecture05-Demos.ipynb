{
 "cells": [
  {
   "cell_type": "markdown",
   "id": "42a30a4e-07e6-4d6d-83f2-68e8e6ac1516",
   "metadata": {},
   "source": [
    "# Lecture 05 Demos"
   ]
  },
  {
   "cell_type": "code",
   "execution_count": null,
   "id": "7a170da0-b225-49d8-8581-6b72fe7c7107",
   "metadata": {},
   "outputs": [],
   "source": [
    "import numpy as np\n",
    "import matplotlib.pyplot as plt\n",
    "\n",
    "max_N = 100\n",
    "n_range = np.arange(max_N)\n",
    "t_range = np.linspace(0, max_N, 1000)"
   ]
  },
  {
   "cell_type": "markdown",
   "id": "3880b1f3-dabc-405a-91c8-20258ba86c5b",
   "metadata": {},
   "source": [
    "## Demo 1: fundamental period of DT signals"
   ]
  },
  {
   "cell_type": "markdown",
   "id": "e4fb1353-aab9-42b2-9303-04d9fabc363c",
   "metadata": {},
   "source": [
    "In CT,\n",
    "\n",
    "$$\n",
    "x(t) = \\sin( \\omega t ) = \\sin\\left(2 \\pi \\frac{t}{T} \\right), \\quad T =  2\\pi / \\omega\n",
    "$$\n",
    "\n",
    "In DT,\n",
    "\n",
    "$$\n",
    "x[n] = \\sin(\\omega n ) = \\sin \\left(2 \\pi \\frac{n}{N} \\right),  \\quad N = m \\cdot (2 \\pi / \\omega)   \n",
    "$$"
   ]
  },
  {
   "cell_type": "code",
   "execution_count": null,
   "id": "2132440c-8a4f-426f-a2d8-5269f4d77b8d",
   "metadata": {},
   "outputs": [],
   "source": [
    "N = 7\n",
    "\n",
    "def signal(n):\n",
    "    return np.sin(2 * np.pi * n / N)"
   ]
  },
  {
   "cell_type": "code",
   "execution_count": null,
   "id": "88ef1e58-c68d-409b-98cd-85d221d63abc",
   "metadata": {},
   "outputs": [],
   "source": [
    "plt.figure(figsize=(20, 5))\n",
    "plt.stem(n_range, signal(n_range))\n",
    "plt.xlabel(\"n\", fontsize=14)\n",
    "plt.ylabel(\"x(n)\", fontsize=14)"
   ]
  },
  {
   "cell_type": "code",
   "execution_count": null,
   "id": "fc106356-9acd-4b37-b0a2-9714b043c986",
   "metadata": {},
   "outputs": [],
   "source": [
    "plt.figure(figsize=(20, 5))\n",
    "plt.plot(t_range, signal(t_range))"
   ]
  },
  {
   "cell_type": "code",
   "execution_count": null,
   "id": "0bd30c25-2735-4538-afc8-cb273996e936",
   "metadata": {},
   "outputs": [],
   "source": [
    "def non_periodic_signal(n):\n",
    "    return np.cos(3 * n)"
   ]
  },
  {
   "cell_type": "code",
   "execution_count": null,
   "id": "664f0b76-8a3c-438e-8548-52d1c4797441",
   "metadata": {},
   "outputs": [],
   "source": [
    "plt.figure(figsize=(20, 5))\n",
    "plt.stem(n_range, non_periodic_signal(n_range))\n",
    "plt.xlabel(\"n\", fontsize=14)\n",
    "plt.ylabel(\"x(n)\", fontsize=14)"
   ]
  },
  {
   "cell_type": "code",
   "execution_count": null,
   "id": "5c913ac6-9abb-4910-a15d-1dd110f11073",
   "metadata": {},
   "outputs": [],
   "source": [
    "plt.figure(figsize=(20, 5))\n",
    "plt.plot(t_range, non_periodic_signal(t_range))\n",
    "plt.xlabel(\"n\", fontsize=14)\n",
    "plt.ylabel(\"x(n)\", fontsize=14)"
   ]
  },
  {
   "cell_type": "markdown",
   "id": "e1642ad8-19f2-474f-89f3-9c8a41a3397f",
   "metadata": {},
   "source": [
    "## Demo 2: the DT square wave"
   ]
  },
  {
   "cell_type": "markdown",
   "id": "46def7b9-c78f-4ed1-84bf-48e9ae2e100e",
   "metadata": {},
   "source": [
    "$$\n",
    "x[n] = \\sum_{k=0}^{N-1} c_{k} e^{j k \\frac{2\\pi n}{N}}, \\quad c_{k} = \\frac{1}{N} \\sum_{n=0}^{N-1} x[n] e^{-j k \\frac{2\\pi n}{N}}\n",
    "$$"
   ]
  },
  {
   "cell_type": "code",
   "execution_count": null,
   "id": "3a08f213-97c7-4abb-8b20-c1e05ae69f08",
   "metadata": {},
   "outputs": [],
   "source": [
    "square_wave = np.array([1., 1., 1., 0., 0., 0])\n",
    "N = 6\n",
    "\n",
    "def compute_coefficient(k):\n",
    "    return (1./6) * np.sum([square_wave[n] * np.exp(-1j * k * 2 * np.pi * n / N) for n in range(N)])"
   ]
  },
  {
   "cell_type": "code",
   "execution_count": null,
   "id": "b0d55fda-9be9-4b01-ae36-0ba2b7bbc36d",
   "metadata": {},
   "outputs": [],
   "source": [
    "c_k = [compute_coefficient(k) for k in range(N)]"
   ]
  },
  {
   "cell_type": "code",
   "execution_count": null,
   "id": "61f58186-f7be-49bd-b724-865bfbcb270c",
   "metadata": {},
   "outputs": [],
   "source": [
    "for k in range(N):\n",
    "    print(f\"c_{k} = {c_k[k]:.4f}\")"
   ]
  },
  {
   "cell_type": "code",
   "execution_count": null,
   "id": "3f529216-9a38-4512-a55f-0a53c0619d13",
   "metadata": {},
   "outputs": [],
   "source": [
    "reconstructed_square_wave = np.array(\n",
    "    [np.sum(\n",
    "        [c_k[k] * np.exp(1j * k * 2 * np.pi * n / N) for k in range(N)]\n",
    "    ) for n in range(N)]\n",
    ")"
   ]
  },
  {
   "cell_type": "code",
   "execution_count": null,
   "id": "338b1816-a144-4ddf-95d2-303de1d6ecac",
   "metadata": {},
   "outputs": [],
   "source": [
    "for n in range(N):\n",
    "    print(f\"x[{n}] = {reconstructed_square_wave[n]:.4f}\")"
   ]
  },
  {
   "cell_type": "code",
   "execution_count": null,
   "id": "5f402267-2140-4a6f-bd62-3b55e467fb96",
   "metadata": {},
   "outputs": [],
   "source": []
  }
 ],
 "metadata": {
  "kernelspec": {
   "display_name": "Python 3 (ipykernel)",
   "language": "python",
   "name": "python3"
  },
  "language_info": {
   "codemirror_mode": {
    "name": "ipython",
    "version": 3
   },
   "file_extension": ".py",
   "mimetype": "text/x-python",
   "name": "python",
   "nbconvert_exporter": "python",
   "pygments_lexer": "ipython3",
   "version": "3.9.7"
  }
 },
 "nbformat": 4,
 "nbformat_minor": 5
}
