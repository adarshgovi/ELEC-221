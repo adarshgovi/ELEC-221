{
 "cells": [
  {
   "cell_type": "markdown",
   "id": "b4c604f8-53a7-4cb4-b918-16b23acd3954",
   "metadata": {},
   "source": [
    "# Lecture 02 Demos"
   ]
  },
  {
   "cell_type": "code",
   "execution_count": null,
   "id": "2500b941-ce5e-4199-962d-ffd92c1634fb",
   "metadata": {},
   "outputs": [],
   "source": [
    "import numpy as np\n",
    "import matplotlib.pyplot as plt\n",
    "\n",
    "# Some helper functions\n",
    "\n",
    "def stem_plot(n_range, signal):\n",
    "    \"\"\"Make a stem plot of an input signal for a given range of n.\"\"\"\n",
    "    fig, ax = plt.subplots(1, 1)\n",
    "    ax.stem(n_range, [signal(n) for n in n_range])\n",
    "    ax.set_xticks(n_range)\n",
    "    ax.set_xlabel(\"n\", fontsize=14)\n",
    "\n",
    "def double_stem_plot(n_range, signal1, signal2):\n",
    "    \"\"\"Make two stem plots for different signals side by side.\"\"\"\n",
    "    fig, ax = plt.subplots(1, 2, figsize=(6, 3), sharex=True, sharey=True)     \n",
    "    ax[0].stem(n_range, [signal1(n) for n in n_range])\n",
    "    ax[1].stem(n_range, [signal2(n) for n in n_range])\n",
    "    for a in ax:\n",
    "        a.set_xticks(n_range)\n",
    "        a.set_xlabel(\"n\", fontsize=14)\n",
    "\n",
    "def timeshift(n_0, signal):\n",
    "    \"\"\"Create and return a signal that is a timeshifted version of the\n",
    "    original signal by the amount n_0.\"\"\"\n",
    "    def shifted_signal(n):\n",
    "        return signal(n + n_0)\n",
    "    return shifted_signal"
   ]
  },
  {
   "cell_type": "markdown",
   "id": "3adfeb8e-63e2-44d3-9f4e-7c6413b480e9",
   "metadata": {},
   "source": [
    "## Demo 1: signals as superpositions of shifted impulses"
   ]
  },
  {
   "cell_type": "markdown",
   "id": "a172f06a-651e-45bb-9053-eb271e78ff6d",
   "metadata": {},
   "source": [
    "$$\n",
    "x[n] = \\sum_{k=-\\infty}^{\\infty} x[k] \\delta[n - k]\n",
    "$$"
   ]
  },
  {
   "cell_type": "code",
   "execution_count": null,
   "id": "7a4dc33e-95a5-446c-9ee8-d0d6b1199eb7",
   "metadata": {},
   "outputs": [],
   "source": [
    "N = 5\n",
    "n_range = np.arange(-N, N + 1) "
   ]
  },
  {
   "cell_type": "code",
   "execution_count": null,
   "id": "352f628b-129a-4485-86f7-efb8d4cd2183",
   "metadata": {},
   "outputs": [],
   "source": [
    "def unit_impulse(n):\n",
    "    return 1 if n == 0 else 0"
   ]
  },
  {
   "cell_type": "code",
   "execution_count": null,
   "id": "ef0ad1d3-1c00-451d-b6b1-68e1d812070d",
   "metadata": {},
   "outputs": [],
   "source": [
    "stem_plot(n_range, unit_impulse)"
   ]
  },
  {
   "cell_type": "code",
   "execution_count": null,
   "id": "9be0551a-338a-48bc-b04d-d0eb7a08410f",
   "metadata": {},
   "outputs": [],
   "source": [
    "def our_signal(n):\n",
    "    if n in [-2, 0, 1]:\n",
    "        return 1\n",
    "    if n == -1:\n",
    "        return 2\n",
    "    return 0"
   ]
  },
  {
   "cell_type": "code",
   "execution_count": null,
   "id": "6ed64d92-8197-4801-9d17-a098cde66d13",
   "metadata": {},
   "outputs": [],
   "source": [
    "def signal_from_sum(n):\n",
    "    return np.sum(\n",
    "        [our_signal(k) * timeshift(-k, unit_impulse)(n) for k in range(-2*N, 2*N)]\n",
    "    ) "
   ]
  },
  {
   "cell_type": "code",
   "execution_count": null,
   "id": "8337d845-d96c-4696-91d3-598e3bc9e115",
   "metadata": {},
   "outputs": [],
   "source": [
    "double_stem_plot(n_range, our_signal, signal_from_sum)"
   ]
  },
  {
   "cell_type": "markdown",
   "id": "5d56f0f1-e10a-489f-8720-8834fa7c56e0",
   "metadata": {},
   "source": [
    "## Demo 2: impulse response and convolution sum"
   ]
  },
  {
   "cell_type": "markdown",
   "id": "359099bb-877c-4488-9f52-8090d80126c3",
   "metadata": {},
   "source": [
    "$$\n",
    "y[n] = \\sum_{k=-\\infty}^\\infty x[k] h[n - k]\n",
    "$$"
   ]
  },
  {
   "cell_type": "code",
   "execution_count": null,
   "id": "392c92bc-c052-44f0-91d8-434354f42926",
   "metadata": {},
   "outputs": [],
   "source": [
    "def impulse_response(n):\n",
    "    if n == -1 or n == 1:\n",
    "        return -1\n",
    "    if n == 0:\n",
    "        return 1\n",
    "    return 0"
   ]
  },
  {
   "cell_type": "code",
   "execution_count": null,
   "id": "5c4975fc-4f5a-40d9-a9f2-70d6d2bb6133",
   "metadata": {},
   "outputs": [],
   "source": [
    "stem_plot(n_range, impulse_response)"
   ]
  },
  {
   "cell_type": "code",
   "execution_count": null,
   "id": "b59f0f0a-b93c-4dd9-9fb2-a4d8e8b8382d",
   "metadata": {},
   "outputs": [],
   "source": [
    "def convolve(signal, impulse_response):\n",
    "    def convolved_signal(n):\n",
    "        return np.sum(\n",
    "            [signal(k) * timeshift(-k, impulse_response)(n) for k in range(-10*N, 10*N)]\n",
    "        )\n",
    "    return convolved_signal"
   ]
  },
  {
   "cell_type": "code",
   "execution_count": null,
   "id": "ec1f4447-e293-4dba-aee7-fe34432e1b4a",
   "metadata": {},
   "outputs": [],
   "source": [
    "stem_plot(n_range, convolve(our_signal, impulse_response))"
   ]
  },
  {
   "cell_type": "code",
   "execution_count": null,
   "id": "130be411-6a96-40be-aa6a-74bc86357eaa",
   "metadata": {},
   "outputs": [],
   "source": [
    "stem_plot(n_range, convolve(impulse_response, our_signal))"
   ]
  },
  {
   "cell_type": "markdown",
   "id": "b1487e43-e6bb-4e42-9cbe-52db0d61f232",
   "metadata": {},
   "source": [
    "## Demo 3: convolution and interconnected systems"
   ]
  },
  {
   "cell_type": "code",
   "execution_count": null,
   "id": "1801adb7-7bf8-40df-8f9b-f6ea96c4add0",
   "metadata": {},
   "outputs": [],
   "source": [
    "def impulse_response_1(n):\n",
    "    if n in [-1, 0, 1]:\n",
    "        return 1\n",
    "    return 0\n",
    "\n",
    "def impulse_response_2(n):\n",
    "    if n >= 0:\n",
    "        return 1\n",
    "    return 0"
   ]
  },
  {
   "cell_type": "code",
   "execution_count": null,
   "id": "d9cb7147-6548-45b8-9840-79a0a8cad4ba",
   "metadata": {},
   "outputs": [],
   "source": [
    "stem_plot(n_range, convolve(convolve(our_signal, impulse_response_1), impulse_response_2))"
   ]
  },
  {
   "cell_type": "code",
   "execution_count": null,
   "id": "90bba796-206e-43ff-8531-01652fe56ffd",
   "metadata": {},
   "outputs": [],
   "source": [
    "stem_plot(n_range, convolve(convolve(impulse_response_1, impulse_response_2), our_signal))"
   ]
  },
  {
   "cell_type": "code",
   "execution_count": null,
   "id": "a9285ce8-10d1-4247-9634-f0132974643a",
   "metadata": {},
   "outputs": [],
   "source": []
  }
 ],
 "metadata": {
  "kernelspec": {
   "display_name": "Python 3",
   "language": "python",
   "name": "python3"
  },
  "language_info": {
   "codemirror_mode": {
    "name": "ipython",
    "version": 3
   },
   "file_extension": ".py",
   "mimetype": "text/x-python",
   "name": "python",
   "nbconvert_exporter": "python",
   "pygments_lexer": "ipython3",
   "version": "3.8.5"
  }
 },
 "nbformat": 4,
 "nbformat_minor": 5
}
