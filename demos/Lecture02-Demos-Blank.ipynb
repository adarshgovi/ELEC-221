{
 "cells": [
  {
   "cell_type": "markdown",
   "id": "b4c604f8-53a7-4cb4-b918-16b23acd3954",
   "metadata": {},
   "source": [
    "# Lecture 02 Demos"
   ]
  },
  {
   "cell_type": "code",
   "execution_count": 52,
   "id": "2500b941-ce5e-4199-962d-ffd92c1634fb",
   "metadata": {},
   "outputs": [],
   "source": [
    "import numpy as np\n",
    "import matplotlib.pyplot as plt\n",
    "\n",
    "# Some helper functions\n",
    "\n",
    "def stem_plot(n_range, signal):\n",
    "    \"\"\"Make a stem plot of an input signal for a given range of n.\"\"\"\n",
    "    fig, ax = plt.subplots(1, 1)\n",
    "    ax.stem(n_range, [signal(n) for n in n_range])\n",
    "    ax.set_xticks(n_range)\n",
    "    ax.set_xlabel(\"n\", fontsize=14)\n",
    "\n",
    "def double_stem_plot(n_range, signal1, signal2):\n",
    "    \"\"\"Make two stem plots for different signals side by side.\"\"\"\n",
    "    fig, ax = plt.subplots(1, 2, figsize=(6, 3), sharex=True, sharey=True)     \n",
    "    ax[0].stem(n_range, [signal1(n) for n in n_range])\n",
    "    ax[1].stem(n_range, [signal2(n) for n in n_range])\n",
    "    for a in ax:\n",
    "        a.set_xticks(n_range)\n",
    "        a.set_xlabel(\"n\", fontsize=14)\n",
    "\n",
    "def timeshift(n_0, signal):\n",
    "    \"\"\"Create and return a signal that is a timeshifted version of the\n",
    "    original signal by the amount n_0.\"\"\"\n",
    "    def shifted_signal(n):\n",
    "        return signal(n + n_0)\n",
    "    return shifted_signal"
   ]
  },
  {
   "cell_type": "markdown",
   "id": "3adfeb8e-63e2-44d3-9f4e-7c6413b480e9",
   "metadata": {},
   "source": [
    "## Demo 1: signals as superpositions of shifted impulses"
   ]
  },
  {
   "cell_type": "markdown",
   "id": "a172f06a-651e-45bb-9053-eb271e78ff6d",
   "metadata": {},
   "source": [
    "$$\n",
    "x[n] = \\sum_{k=-\\infty}^{\\infty} x[k] \\delta[n - k]\n",
    "$$"
   ]
  },
  {
   "cell_type": "code",
   "execution_count": null,
   "id": "5812cf17-bdc8-40f8-a2aa-3ab2e6c21e0c",
   "metadata": {},
   "outputs": [],
   "source": []
  },
  {
   "cell_type": "markdown",
   "id": "5d56f0f1-e10a-489f-8720-8834fa7c56e0",
   "metadata": {},
   "source": [
    "## Demo 2: impulse response and convolution sum"
   ]
  },
  {
   "cell_type": "markdown",
   "id": "359099bb-877c-4488-9f52-8090d80126c3",
   "metadata": {},
   "source": [
    "$$\n",
    "y[n] = \\sum_{k=-\\infty}^\\infty x[k] h[n - k]\n",
    "$$"
   ]
  },
  {
   "cell_type": "code",
   "execution_count": null,
   "id": "a3b3a2c0-0c0c-4fe6-95bc-d7e3f8b94bba",
   "metadata": {},
   "outputs": [],
   "source": []
  },
  {
   "cell_type": "markdown",
   "id": "b1487e43-e6bb-4e42-9cbe-52db0d61f232",
   "metadata": {},
   "source": [
    "## Demo 3: convolution and interconnected systems"
   ]
  },
  {
   "cell_type": "code",
   "execution_count": null,
   "id": "a9285ce8-10d1-4247-9634-f0132974643a",
   "metadata": {},
   "outputs": [],
   "source": []
  }
 ],
 "metadata": {
  "kernelspec": {
   "display_name": "Python 3 (ipykernel)",
   "language": "python",
   "name": "python3"
  },
  "language_info": {
   "codemirror_mode": {
    "name": "ipython",
    "version": 3
   },
   "file_extension": ".py",
   "mimetype": "text/x-python",
   "name": "python",
   "nbconvert_exporter": "python",
   "pygments_lexer": "ipython3",
   "version": "3.9.7"
  }
 },
 "nbformat": 4,
 "nbformat_minor": 5
}
